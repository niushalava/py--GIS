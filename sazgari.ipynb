{
 "cells": [
  {
   "cell_type": "code",
   "execution_count": 50,
   "metadata": {},
   "outputs": [],
   "source": [
    "import geopandas as gpd\n",
    "import matplotlib.pyplot as plt\n",
    "\n",
    "# خواندن شیپ فایل\n",
    "gdf = gpd.read_file('parcel_16.shp')\n",
    "\n",
    "# قوانین ناسازگاری\n",
    "incompatibility_rules = {\n",
    "    \"مسکونی\": [\"صنعتي\"],\n",
    "    \"صنعتي\": [\"مسکونی\"],\n",
    "    \"مسکونی\": [\"حمل و نقل\"],\n",
    "    \"حمل و نقل\": [\"مسکونی\"],\n",
    "}\n",
    "\n",
    "# تابع بررسی ناسازگاری\n",
    "def check_incompatibility(row, incompatibility_rules):\n",
    "    current_zone = row['USAGE_NAME']\n",
    "    neighbors = gdf.loc[gdf.touches(row['geometry'])]['USAGE_NAME']\n",
    "    for neighbor in neighbors:\n",
    "        if neighbor in incompatibility_rules.get(current_zone, []):\n",
    "            return True\n",
    "    return False\n",
    "\n",
    "# اعمال تابع و ایجاد ستون جدید\n",
    "gdf['incompatible'] = gdf.apply(check_incompatibility, args=(incompatibility_rules,), axis=1)\n",
    "\n",
    "# نمایش مناطق ناسازگار روی نقشه\n",
    "incompatible_zones = gdf[gdf['incompatible'] == True]\n",
    "\n",
    "from shapely.geometry import Point\n",
    "\n",
    "# ... (بقیه کدهای قبلی)\n",
    "\n",
    "# تعریف آستانه فاصله (مثلاً 100 متر)\n",
    "distance_threshold = 500\n",
    "\n",
    "def check_distance_incompatibility(row, incompatibility_rules, distance_threshold):\n",
    "    # ... (کد قبلی بررسی ناسازگاری)\n",
    "    # محاسبه فاصله تا نزدیک‌ترین همسایه ناسازگار\n",
    "    neighbors = gdf.loc[gdf.touches(row['geometry'])]\n",
    "    if len(neighbors) > 0:\n",
    "        min_distance = row['geometry'].distance(neighbors.iloc[0]['geometry'])\n",
    "        if min_distance < distance_threshold:\n",
    "            return True\n",
    "    return False\n",
    "\n",
    "# اعمال تابع جدید\n",
    "gdf['incompatible_with_distance'] = gdf.apply(check_distance_incompatibility, args=(incompatibility_rules, distance_threshold), axis=1)\n",
    "\n",
    "incompatible_with_distance = gdf[gdf['incompatible'] == True]\n",
    "#incompatible_with_distance.explore('luchange',cmap='Accent',legend=True)"
   ]
  },
  {
   "cell_type": "code",
   "execution_count": 29,
   "metadata": {},
   "outputs": [],
   "source": [
    "gdf = gpd.read_file('parcel_16.shp')"
   ]
  },
  {
   "cell_type": "code",
   "execution_count": 49,
   "metadata": {},
   "outputs": [
    {
     "data": {
      "text/plain": [
       "<bound method IndexOpsMixin.value_counts of 0        مسکوني\n",
       "1        مسکوني\n",
       "2        مسکوني\n",
       "3        مسکوني\n",
       "4        مسکوني\n",
       "          ...  \n",
       "40734    مسکوني\n",
       "40735    مسکوني\n",
       "40736    مسکوني\n",
       "40737     صنعتي\n",
       "40738      باير\n",
       "Name: USAGE_NAME, Length: 40739, dtype: object>"
      ]
     },
     "execution_count": 49,
     "metadata": {},
     "output_type": "execute_result"
    }
   ],
   "source": [
    "gdf.USAGE_NAME.value_counts"
   ]
  },
  {
   "cell_type": "code",
   "execution_count": 31,
   "metadata": {},
   "outputs": [],
   "source": [
    "nasazgar=gdf[gdf['USAGE_NAME']=='مسکونی']"
   ]
  },
  {
   "cell_type": "code",
   "execution_count": 51,
   "metadata": {},
   "outputs": [
    {
     "ename": "KeyError",
     "evalue": "False",
     "output_type": "error",
     "traceback": [
      "\u001b[1;31m---------------------------------------------------------------------------\u001b[0m",
      "\u001b[1;31mKeyError\u001b[0m                                  Traceback (most recent call last)",
      "File \u001b[1;32mc:\\Users\\Taha\\Documents\\GitHub\\py--GIS\\py-GIS\\Lib\\site-packages\\pandas\\core\\indexes\\base.py:3805\u001b[0m, in \u001b[0;36mIndex.get_loc\u001b[1;34m(self, key)\u001b[0m\n\u001b[0;32m   3804\u001b[0m \u001b[38;5;28;01mtry\u001b[39;00m:\n\u001b[1;32m-> 3805\u001b[0m     \u001b[38;5;28;01mreturn\u001b[39;00m \u001b[38;5;28;43mself\u001b[39;49m\u001b[38;5;241;43m.\u001b[39;49m\u001b[43m_engine\u001b[49m\u001b[38;5;241;43m.\u001b[39;49m\u001b[43mget_loc\u001b[49m\u001b[43m(\u001b[49m\u001b[43mcasted_key\u001b[49m\u001b[43m)\u001b[49m\n\u001b[0;32m   3806\u001b[0m \u001b[38;5;28;01mexcept\u001b[39;00m \u001b[38;5;167;01mKeyError\u001b[39;00m \u001b[38;5;28;01mas\u001b[39;00m err:\n",
      "File \u001b[1;32mindex.pyx:167\u001b[0m, in \u001b[0;36mpandas._libs.index.IndexEngine.get_loc\u001b[1;34m()\u001b[0m\n",
      "File \u001b[1;32mindex.pyx:196\u001b[0m, in \u001b[0;36mpandas._libs.index.IndexEngine.get_loc\u001b[1;34m()\u001b[0m\n",
      "File \u001b[1;32mpandas\\\\_libs\\\\hashtable_class_helper.pxi:7081\u001b[0m, in \u001b[0;36mpandas._libs.hashtable.PyObjectHashTable.get_item\u001b[1;34m()\u001b[0m\n",
      "File \u001b[1;32mpandas\\\\_libs\\\\hashtable_class_helper.pxi:7089\u001b[0m, in \u001b[0;36mpandas._libs.hashtable.PyObjectHashTable.get_item\u001b[1;34m()\u001b[0m\n",
      "\u001b[1;31mKeyError\u001b[0m: False",
      "\nThe above exception was the direct cause of the following exception:\n",
      "\u001b[1;31mKeyError\u001b[0m                                  Traceback (most recent call last)",
      "Cell \u001b[1;32mIn[51], line 55\u001b[0m\n\u001b[0;32m     52\u001b[0m incompatible_with_distance \u001b[38;5;241m=\u001b[39m gdf[gdf[\u001b[38;5;124m'\u001b[39m\u001b[38;5;124mincompatible_with_distance\u001b[39m\u001b[38;5;124m'\u001b[39m] \u001b[38;5;241m==\u001b[39m \u001b[38;5;28;01mTrue\u001b[39;00m]  \n\u001b[0;32m     54\u001b[0m \u001b[38;5;66;03m# نمایش نتایج  \u001b[39;00m\n\u001b[1;32m---> 55\u001b[0m \u001b[43mincompatible_with_distance\u001b[49m\u001b[38;5;241;43m.\u001b[39;49m\u001b[43mexplore\u001b[49m\u001b[43m(\u001b[49m\u001b[38;5;124;43m'\u001b[39;49m\u001b[38;5;124;43mincompatible\u001b[39;49m\u001b[38;5;124;43m'\u001b[39;49m\u001b[38;5;241;43m==\u001b[39;49m\u001b[38;5;28;43;01mTrue\u001b[39;49;00m\u001b[43m,\u001b[49m\u001b[43mcmap\u001b[49m\u001b[38;5;241;43m=\u001b[39;49m\u001b[38;5;124;43m'\u001b[39;49m\u001b[38;5;124;43mAccent\u001b[39;49m\u001b[38;5;124;43m'\u001b[39;49m\u001b[43m,\u001b[49m\u001b[43mlegend\u001b[49m\u001b[38;5;241;43m=\u001b[39;49m\u001b[38;5;28;43;01mTrue\u001b[39;49;00m\u001b[43m,\u001b[49m\u001b[43m \u001b[49m\u001b[43mcategorical\u001b[49m\u001b[38;5;241;43m=\u001b[39;49m\u001b[38;5;28;43;01mTrue\u001b[39;49;00m\u001b[43m)\u001b[49m\n",
      "File \u001b[1;32mc:\\Users\\Taha\\Documents\\GitHub\\py--GIS\\py-GIS\\Lib\\site-packages\\geopandas\\geodataframe.py:2305\u001b[0m, in \u001b[0;36mGeoDataFrame.explore\u001b[1;34m(self, *args, **kwargs)\u001b[0m\n\u001b[0;32m   2303\u001b[0m \u001b[38;5;129m@doc\u001b[39m(_explore)\n\u001b[0;32m   2304\u001b[0m \u001b[38;5;28;01mdef\u001b[39;00m \u001b[38;5;21mexplore\u001b[39m(\u001b[38;5;28mself\u001b[39m, \u001b[38;5;241m*\u001b[39margs, \u001b[38;5;241m*\u001b[39m\u001b[38;5;241m*\u001b[39mkwargs):\n\u001b[1;32m-> 2305\u001b[0m     \u001b[38;5;28;01mreturn\u001b[39;00m \u001b[43m_explore\u001b[49m\u001b[43m(\u001b[49m\u001b[38;5;28;43mself\u001b[39;49m\u001b[43m,\u001b[49m\u001b[43m \u001b[49m\u001b[38;5;241;43m*\u001b[39;49m\u001b[43margs\u001b[49m\u001b[43m,\u001b[49m\u001b[43m \u001b[49m\u001b[38;5;241;43m*\u001b[39;49m\u001b[38;5;241;43m*\u001b[39;49m\u001b[43mkwargs\u001b[49m\u001b[43m)\u001b[49m\n",
      "File \u001b[1;32mc:\\Users\\Taha\\Documents\\GitHub\\py--GIS\\py-GIS\\Lib\\site-packages\\geopandas\\explore.py:427\u001b[0m, in \u001b[0;36m_explore\u001b[1;34m(df, column, cmap, color, m, tiles, attr, tooltip, popup, highlight, categorical, legend, scheme, k, vmin, vmax, width, height, categories, classification_kwds, control_scale, marker_type, marker_kwds, style_kwds, highlight_kwds, missing_kwds, tooltip_kwds, popup_kwds, legend_kwds, map_kwds, **kwargs)\u001b[0m\n\u001b[0;32m    425\u001b[0m         gdf[column_name] \u001b[38;5;241m=\u001b[39m column\n\u001b[0;32m    426\u001b[0m         column \u001b[38;5;241m=\u001b[39m column_name\n\u001b[1;32m--> 427\u001b[0m \u001b[38;5;28;01melif\u001b[39;00m \u001b[38;5;28misinstance\u001b[39m(\u001b[43mgdf\u001b[49m\u001b[43m[\u001b[49m\u001b[43mcolumn\u001b[49m\u001b[43m]\u001b[49m\u001b[38;5;241m.\u001b[39mdtype, pd\u001b[38;5;241m.\u001b[39mCategoricalDtype):\n\u001b[0;32m    428\u001b[0m     \u001b[38;5;28;01mif\u001b[39;00m categories \u001b[38;5;129;01mis\u001b[39;00m \u001b[38;5;129;01mnot\u001b[39;00m \u001b[38;5;28;01mNone\u001b[39;00m:\n\u001b[0;32m    429\u001b[0m         \u001b[38;5;28;01mraise\u001b[39;00m \u001b[38;5;167;01mValueError\u001b[39;00m(\n\u001b[0;32m    430\u001b[0m             \u001b[38;5;124m\"\u001b[39m\u001b[38;5;124mCannot specify \u001b[39m\u001b[38;5;124m'\u001b[39m\u001b[38;5;124mcategories\u001b[39m\u001b[38;5;124m'\u001b[39m\u001b[38;5;124m when column has categorical dtype\u001b[39m\u001b[38;5;124m\"\u001b[39m\n\u001b[0;32m    431\u001b[0m         )\n",
      "File \u001b[1;32mc:\\Users\\Taha\\Documents\\GitHub\\py--GIS\\py-GIS\\Lib\\site-packages\\geopandas\\geodataframe.py:1750\u001b[0m, in \u001b[0;36mGeoDataFrame.__getitem__\u001b[1;34m(self, key)\u001b[0m\n\u001b[0;32m   1744\u001b[0m \u001b[38;5;28;01mdef\u001b[39;00m \u001b[38;5;21m__getitem__\u001b[39m(\u001b[38;5;28mself\u001b[39m, key):\n\u001b[0;32m   1745\u001b[0m \u001b[38;5;250m    \u001b[39m\u001b[38;5;124;03m\"\"\"\u001b[39;00m\n\u001b[0;32m   1746\u001b[0m \u001b[38;5;124;03m    If the result is a column containing only 'geometry', return a\u001b[39;00m\n\u001b[0;32m   1747\u001b[0m \u001b[38;5;124;03m    GeoSeries. If it's a DataFrame with any columns of GeometryDtype,\u001b[39;00m\n\u001b[0;32m   1748\u001b[0m \u001b[38;5;124;03m    return a GeoDataFrame.\u001b[39;00m\n\u001b[0;32m   1749\u001b[0m \u001b[38;5;124;03m    \"\"\"\u001b[39;00m\n\u001b[1;32m-> 1750\u001b[0m     result \u001b[38;5;241m=\u001b[39m \u001b[38;5;28;43msuper\u001b[39;49m\u001b[43m(\u001b[49m\u001b[43m)\u001b[49m\u001b[38;5;241;43m.\u001b[39;49m\u001b[38;5;21;43m__getitem__\u001b[39;49m\u001b[43m(\u001b[49m\u001b[43mkey\u001b[49m\u001b[43m)\u001b[49m\n\u001b[0;32m   1751\u001b[0m     \u001b[38;5;66;03m# Custom logic to avoid waiting for pandas GH51895\u001b[39;00m\n\u001b[0;32m   1752\u001b[0m     \u001b[38;5;66;03m# result is not geometry dtype for multi-indexes\u001b[39;00m\n\u001b[0;32m   1753\u001b[0m     \u001b[38;5;28;01mif\u001b[39;00m (\n\u001b[0;32m   1754\u001b[0m         pd\u001b[38;5;241m.\u001b[39mapi\u001b[38;5;241m.\u001b[39mtypes\u001b[38;5;241m.\u001b[39mis_scalar(key)\n\u001b[0;32m   1755\u001b[0m         \u001b[38;5;129;01mand\u001b[39;00m key \u001b[38;5;241m==\u001b[39m \u001b[38;5;124m\"\u001b[39m\u001b[38;5;124m\"\u001b[39m\n\u001b[1;32m   (...)\u001b[0m\n\u001b[0;32m   1758\u001b[0m         \u001b[38;5;129;01mand\u001b[39;00m \u001b[38;5;129;01mnot\u001b[39;00m is_geometry_type(result)\n\u001b[0;32m   1759\u001b[0m     ):\n",
      "File \u001b[1;32mc:\\Users\\Taha\\Documents\\GitHub\\py--GIS\\py-GIS\\Lib\\site-packages\\pandas\\core\\frame.py:4102\u001b[0m, in \u001b[0;36mDataFrame.__getitem__\u001b[1;34m(self, key)\u001b[0m\n\u001b[0;32m   4100\u001b[0m \u001b[38;5;28;01mif\u001b[39;00m \u001b[38;5;28mself\u001b[39m\u001b[38;5;241m.\u001b[39mcolumns\u001b[38;5;241m.\u001b[39mnlevels \u001b[38;5;241m>\u001b[39m \u001b[38;5;241m1\u001b[39m:\n\u001b[0;32m   4101\u001b[0m     \u001b[38;5;28;01mreturn\u001b[39;00m \u001b[38;5;28mself\u001b[39m\u001b[38;5;241m.\u001b[39m_getitem_multilevel(key)\n\u001b[1;32m-> 4102\u001b[0m indexer \u001b[38;5;241m=\u001b[39m \u001b[38;5;28;43mself\u001b[39;49m\u001b[38;5;241;43m.\u001b[39;49m\u001b[43mcolumns\u001b[49m\u001b[38;5;241;43m.\u001b[39;49m\u001b[43mget_loc\u001b[49m\u001b[43m(\u001b[49m\u001b[43mkey\u001b[49m\u001b[43m)\u001b[49m\n\u001b[0;32m   4103\u001b[0m \u001b[38;5;28;01mif\u001b[39;00m is_integer(indexer):\n\u001b[0;32m   4104\u001b[0m     indexer \u001b[38;5;241m=\u001b[39m [indexer]\n",
      "File \u001b[1;32mc:\\Users\\Taha\\Documents\\GitHub\\py--GIS\\py-GIS\\Lib\\site-packages\\pandas\\core\\indexes\\base.py:3812\u001b[0m, in \u001b[0;36mIndex.get_loc\u001b[1;34m(self, key)\u001b[0m\n\u001b[0;32m   3807\u001b[0m     \u001b[38;5;28;01mif\u001b[39;00m \u001b[38;5;28misinstance\u001b[39m(casted_key, \u001b[38;5;28mslice\u001b[39m) \u001b[38;5;129;01mor\u001b[39;00m (\n\u001b[0;32m   3808\u001b[0m         \u001b[38;5;28misinstance\u001b[39m(casted_key, abc\u001b[38;5;241m.\u001b[39mIterable)\n\u001b[0;32m   3809\u001b[0m         \u001b[38;5;129;01mand\u001b[39;00m \u001b[38;5;28many\u001b[39m(\u001b[38;5;28misinstance\u001b[39m(x, \u001b[38;5;28mslice\u001b[39m) \u001b[38;5;28;01mfor\u001b[39;00m x \u001b[38;5;129;01min\u001b[39;00m casted_key)\n\u001b[0;32m   3810\u001b[0m     ):\n\u001b[0;32m   3811\u001b[0m         \u001b[38;5;28;01mraise\u001b[39;00m InvalidIndexError(key)\n\u001b[1;32m-> 3812\u001b[0m     \u001b[38;5;28;01mraise\u001b[39;00m \u001b[38;5;167;01mKeyError\u001b[39;00m(key) \u001b[38;5;28;01mfrom\u001b[39;00m \u001b[38;5;21;01merr\u001b[39;00m\n\u001b[0;32m   3813\u001b[0m \u001b[38;5;28;01mexcept\u001b[39;00m \u001b[38;5;167;01mTypeError\u001b[39;00m:\n\u001b[0;32m   3814\u001b[0m     \u001b[38;5;66;03m# If we have a listlike key, _check_indexing_error will raise\u001b[39;00m\n\u001b[0;32m   3815\u001b[0m     \u001b[38;5;66;03m#  InvalidIndexError. Otherwise we fall through and re-raise\u001b[39;00m\n\u001b[0;32m   3816\u001b[0m     \u001b[38;5;66;03m#  the TypeError.\u001b[39;00m\n\u001b[0;32m   3817\u001b[0m     \u001b[38;5;28mself\u001b[39m\u001b[38;5;241m.\u001b[39m_check_indexing_error(key)\n",
      "\u001b[1;31mKeyError\u001b[0m: False"
     ]
    }
   ],
   "source": [
    "import geopandas as gpd  \n",
    "import matplotlib.pyplot as plt  \n",
    "from shapely.geometry import Point  \n",
    "\n",
    "# خواندن شیپ فایل  \n",
    "gdf = gpd.read_file('parcel_16.shp')  \n",
    "\n",
    "# حذف هندسه‌های خالی  \n",
    "gdf = gdf[~gdf['geometry'].is_empty]  \n",
    "\n",
    "# قوانین ناسازگاری  \n",
    "incompatibility_rules = {  \n",
    "    \"مسکوني\": [\"صنعتی\", \"حمل و نقل\"],  \n",
    "    \"صنعتی\": [\"مسکوني\"],  \n",
    "    \"حمل و نقل\": [\"مسکوني\"],  \n",
    "}  \n",
    "\n",
    "# تابع بررسی ناسازگاری  \n",
    "def check_incompatibility(row, incompatibility_rules):  \n",
    "    if row['geometry'].is_empty:  \n",
    "        return False  \n",
    "    current_zone = row['USAGE_NAME']  \n",
    "    neighbors = gdf.loc[gdf.touches(row['geometry'])]['USAGE_NAME']  \n",
    "    for neighbor in neighbors:  \n",
    "        if neighbor in incompatibility_rules.get(current_zone, []):  \n",
    "            return True  \n",
    "    return False  \n",
    "\n",
    "# اعمال تابع و ایجاد ستون جدید  \n",
    "gdf['incompatible'] = gdf.apply(check_incompatibility, args=(incompatibility_rules,), axis=1)  \n",
    "\n",
    "# نمایش مناطق ناسازگار روی نقشه  \n",
    "incompatible_zones = gdf[gdf['incompatible'] == True]  \n",
    "\n",
    "# تعریف آستانه فاصله (مثلاً 100 متر)  \n",
    "distance_threshold = 100  \n",
    "\n",
    "def check_distance_incompatibility(row, incompatibility_rules, distance_threshold):  \n",
    "    if row['geometry'].is_empty:  \n",
    "        return False  \n",
    "    # محاسبه فاصله تا نزدیک‌ترین همسایه ناسازگار  \n",
    "    neighbors = gdf.loc[gdf.touches(row['geometry'])]  \n",
    "    if len(neighbors) > 0:  \n",
    "        min_distance = row['geometry'].distance(neighbors.iloc[0]['geometry'])  \n",
    "        if min_distance < distance_threshold:  \n",
    "            return True  \n",
    "    return False  \n",
    "\n",
    "# اعمال تابع جدید  \n",
    "gdf['incompatible_with_distance'] = gdf.apply(check_distance_incompatibility, args=(incompatibility_rules, distance_threshold), axis=1)  \n",
    "\n",
    "incompatible_with_distance = gdf[gdf['incompatible_with_distance'] == True]  \n",
    "\n",
    "# نمایش نتایج  \n",
    "incompatible_with_distance.explore('incompatible'==True,cmap='Accent',legend=True, categorical=True)"
   ]
  }
 ],
 "metadata": {
  "kernelspec": {
   "display_name": "py-GIS",
   "language": "python",
   "name": "python3"
  },
  "language_info": {
   "codemirror_mode": {
    "name": "ipython",
    "version": 3
   },
   "file_extension": ".py",
   "mimetype": "text/x-python",
   "name": "python",
   "nbconvert_exporter": "python",
   "pygments_lexer": "ipython3",
   "version": "3.12.6"
  }
 },
 "nbformat": 4,
 "nbformat_minor": 2
}
