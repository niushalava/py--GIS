{
 "cells": [
  {
   "cell_type": "code",
   "execution_count": 2,
   "metadata": {},
   "outputs": [],
   "source": [
    "import geopandas as gpd\n",
    "import shapely\n",
    "import math\n",
    "parcels = gpd.read_file(r\"draft\\draft\\R01M4.shp\")\n",
    "for idx, feature in parcels.iterrows():\n",
    "    parcel = feature['geometry'].simplify(tolerance=0.05)\n",
    "    coords = list(parcel.boundary.coords)\n",
    "    temp = []\n",
    "    for a, b in zip(coords,coords[1:]):\n",
    "        c = shapely.LineString([a,b]).length\n",
    "        d = math.degrees(math.atan2(b[1]-a[1], b[0]-a[0]))\n",
    "        temp.append({'c': c, 'd':d})    \n",
    "    e = max(temp, key=lambda x: x['c'])\n",
    "    parcels.loc[idx, 'x']= e['c']\n",
    "    parcels.loc[idx, 'y']= e['d']\n",
    "parcels.to_file('draft/parcel.shp')\n"
   ]
  }
 ],
 "metadata": {
  "kernelspec": {
   "display_name": "py-GIS",
   "language": "python",
   "name": "python3"
  },
  "language_info": {
   "codemirror_mode": {
    "name": "ipython",
    "version": 3
   },
   "file_extension": ".py",
   "mimetype": "text/x-python",
   "name": "python",
   "nbconvert_exporter": "python",
   "pygments_lexer": "ipython3",
   "version": "3.12.6"
  }
 },
 "nbformat": 4,
 "nbformat_minor": 2
}
