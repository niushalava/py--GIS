{
 "cells": [
  {
   "cell_type": "code",
   "execution_count": 1,
   "metadata": {},
   "outputs": [
    {
     "name": "stdout",
     "output_type": "stream",
     "text": [
      "[(1, 'a'), (2, 'b'), (3, 'c')]\n"
     ]
    }
   ],
   "source": [
    "tuple1 = (1, 2, 3)  \n",
    "tuple2 = ('a', 'b', 'c')  \n",
    "\n",
    "result = zip(tuple1, tuple2)  \n",
    "print(list(result))  "
   ]
  },
  {
   "cell_type": "code",
   "execution_count": 2,
   "metadata": {},
   "outputs": [
    {
     "name": "stdout",
     "output_type": "stream",
     "text": [
      "[(1, 'x'), (2, 'y')]\n"
     ]
    }
   ],
   "source": [
    "tuple1 = (1, 2)  \n",
    "tuple2 = ('x', 'y', 'z')  \n",
    "\n",
    "result = zip(tuple1, tuple2)  \n",
    "print(list(result))  "
   ]
  }
 ],
 "metadata": {
  "kernelspec": {
   "display_name": "py-GIS",
   "language": "python",
   "name": "python3"
  },
  "language_info": {
   "codemirror_mode": {
    "name": "ipython",
    "version": 3
   },
   "file_extension": ".py",
   "mimetype": "text/x-python",
   "name": "python",
   "nbconvert_exporter": "python",
   "pygments_lexer": "ipython3",
   "version": "3.12.6"
  }
 },
 "nbformat": 4,
 "nbformat_minor": 2
}
