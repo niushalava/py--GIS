{
 "cells": [
  {
   "cell_type": "code",
   "execution_count": 5,
   "metadata": {},
   "outputs": [
    {
     "name": "stdout",
     "output_type": "stream",
     "text": [
      "889\n"
     ]
    }
   ],
   "source": [
    "Fhand=open(\"_OceanofPDF_com_On_Looking_Eleven_Walks_With_Expert_Eyes_Alexandra.txt\")\n",
    "onlooking=Fhand.read()\n",
    "text=onlooking.split()\n",
    "count=0\n",
    "for word in text:\n",
    "    word=word.lower()\n",
    "    if word==\"that\":\n",
    "        count+=1\n",
    "print(count)\n"
   ]
  },
  {
   "cell_type": "code",
   "execution_count": 22,
   "metadata": {},
   "outputs": [
    {
     "name": "stdout",
     "output_type": "stream",
     "text": [
      "{'you': 330, 'for': 573, 'this': 417, 'our': 415, 'and': 2022, 'on': 764, 'new': 125, 'other': 154, 'from': 370, 'to': 2135, 'up': 150, 'or': 518, 'us': 127, 'at': 508, 'the': 4954, 'of': 2824, 'into': 192, 'that': 889, 'over': 105, 'a': 2581, 'not': 481, 'sound': 149, 'it': 699, 'about': 189, 'are': 538, 'what': 296, 'is': 896, 'around': 135, 'in': 1453, 'your': 147, 'by': 414, 'these': 154, 'an': 394, 'all': 212, 'we': 762, 'just': 182, 'but': 400, 'also': 108, 'as': 612, 'down': 107, 'be': 313, 'was': 754, 'my': 436, 'who': 143, 'me': 140, 'could': 125, '.': 197, 'with': 609, 'have': 288, 'city': 138, 'street': 105, 'they': 370, 'out': 183, 'i': 987, 'would': 128, 'through': 120, 'and,': 118, 'when': 210, 'were': 293, 'see': 187, 'where': 116, 'how': 123, 'walk': 116, 'than': 140, 'so': 137, 'had': 283, 'more': 199, 'people': 122, 'only': 101, 'even': 160, 'there': 180, 'has': 124, 'his': 415, 'their': 332, 'â€¢': 127, 'its': 193, 'one': 303, 'he': 432, 'some': 130, 'sounds': 113, 'if': 162, 'those': 101, 'do': 144, 'which': 127, 'might': 104, 'like': 148, 'can': 211, 'her': 194, 'she': 161}\n"
     ]
    }
   ],
   "source": [
    "Fhand=open(\"_OceanofPDF_com_On_Looking_Eleven_Walks_With_Expert_Eyes_Alexandra.txt\")\n",
    "onlooking=Fhand.read()\n",
    "text=onlooking.split()\n",
    "words={}\n",
    "count=0\n",
    "for word in text:\n",
    "    word=word.lower()\n",
    "    if word in words:\n",
    "        words[word]+=1\n",
    "    else:\n",
    "        words[word]=1\n",
    "\n",
    "filtered_words = {key: value for key, value in words.items() if value > 100}  \n",
    "print(filtered_words)\n",
    "        \n"
   ]
  },
  {
   "cell_type": "code",
   "execution_count": null,
   "metadata": {},
   "outputs": [],
   "source": []
  }
 ],
 "metadata": {
  "kernelspec": {
   "display_name": "py-GIS",
   "language": "python",
   "name": "python3"
  },
  "language_info": {
   "codemirror_mode": {
    "name": "ipython",
    "version": 3
   },
   "file_extension": ".py",
   "mimetype": "text/x-python",
   "name": "python",
   "nbconvert_exporter": "python",
   "pygments_lexer": "ipython3",
   "version": "3.12.6"
  }
 },
 "nbformat": 4,
 "nbformat_minor": 2
}
