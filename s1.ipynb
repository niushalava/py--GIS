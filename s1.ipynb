{
 "cells": [
  {
   "cell_type": "code",
   "execution_count": 2,
   "metadata": {},
   "outputs": [
    {
     "name": "stdout",
     "output_type": "stream",
     "text": [
      "1\n"
     ]
    }
   ],
   "source": [
    "name=\"Niusha\"\n",
    "count=0\n",
    "for chr in name:\n",
    "    if chr==\"a\":\n",
    "        count+=1\n",
    "print(count)\n"
   ]
  },
  {
   "cell_type": "code",
   "execution_count": 4,
   "metadata": {},
   "outputs": [
    {
     "name": "stdout",
     "output_type": "stream",
     "text": [
      "7\n"
     ]
    }
   ],
   "source": [
    "def countA(text):\n",
    "    count=0\n",
    "    for chr in text:\n",
    "        if chr==\"a\":\n",
    "            count+=1\n",
    "    print(count)\n",
    "\n",
    "countA(\"salamsalamaaa\")"
   ]
  },
  {
   "cell_type": "code",
   "execution_count": 6,
   "metadata": {},
   "outputs": [
    {
     "name": "stdout",
     "output_type": "stream",
     "text": [
      "2\n"
     ]
    }
   ],
   "source": [
    "def countB(userdefined,text):\n",
    "    count=0\n",
    "    for chr in text:\n",
    "        if chr==userdefined:\n",
    "            count+=1\n",
    "    print(count)\n",
    "\n",
    "countB(\"m\",\"salamsalamaaa\")"
   ]
  }
 ],
 "metadata": {
  "kernelspec": {
   "display_name": "py-GIS",
   "language": "python",
   "name": "python3"
  },
  "language_info": {
   "codemirror_mode": {
    "name": "ipython",
    "version": 3
   },
   "file_extension": ".py",
   "mimetype": "text/x-python",
   "name": "python",
   "nbconvert_exporter": "python",
   "pygments_lexer": "ipython3",
   "version": "3.12.6"
  }
 },
 "nbformat": 4,
 "nbformat_minor": 2
}
