{
 "cells": [
  {
   "cell_type": "code",
   "execution_count": 51,
   "metadata": {},
   "outputs": [],
   "source": [
    "import rasterio\n",
    "#import numpy as np\n",
    "import matplotlib.pylab as plt\n",
    "import rsgislib\n"
   ]
  },
  {
   "cell_type": "code",
   "execution_count": 52,
   "metadata": {},
   "outputs": [],
   "source": [
    "with rasterio.open('landsat2014_B4.TIF') as SRC:\n",
    "    Red2014=SRC.read()\n",
    "    profile=SRC.profile"
   ]
  },
  {
   "cell_type": "code",
   "execution_count": 53,
   "metadata": {},
   "outputs": [],
   "source": [
    "with rasterio.open('landsat2014_B5.TIF') as SRC:\n",
    "    Nir2014=SRC.read()"
   ]
  },
  {
   "cell_type": "code",
   "execution_count": 54,
   "metadata": {},
   "outputs": [],
   "source": [
    "with rasterio.open('landsat2024_B4.TIF') as SRC:\n",
    "    Red2024=SRC.read()"
   ]
  },
  {
   "cell_type": "code",
   "execution_count": 55,
   "metadata": {},
   "outputs": [],
   "source": [
    "with rasterio.open('landsat2024_B5.TIF') as SRC:\n",
    "    Nir2024=SRC.read()"
   ]
  },
  {
   "cell_type": "code",
   "execution_count": 56,
   "metadata": {},
   "outputs": [],
   "source": [
    "def calculate_ndvi(Nir,Red):\n",
    "    ndvi=((Nir-Red)/(Nir+Red))\n",
    "    return ndvi"
   ]
  },
  {
   "cell_type": "code",
   "execution_count": 57,
   "metadata": {},
   "outputs": [
    {
     "name": "stderr",
     "output_type": "stream",
     "text": [
      "C:\\Users\\Taha\\AppData\\Local\\Temp\\ipykernel_19756\\1386623277.py:2: RuntimeWarning: divide by zero encountered in divide\n",
      "  ndvi=((Nir-Red)/(Nir+Red))\n",
      "C:\\Users\\Taha\\AppData\\Local\\Temp\\ipykernel_19756\\1386623277.py:2: RuntimeWarning: invalid value encountered in divide\n",
      "  ndvi=((Nir-Red)/(Nir+Red))\n"
     ]
    }
   ],
   "source": [
    "ndvi2014= calculate_ndvi(Nir2014,Red2014)"
   ]
  },
  {
   "cell_type": "code",
   "execution_count": 58,
   "metadata": {},
   "outputs": [
    {
     "name": "stderr",
     "output_type": "stream",
     "text": [
      "C:\\Users\\Taha\\AppData\\Local\\Temp\\ipykernel_19756\\1386623277.py:2: RuntimeWarning: divide by zero encountered in divide\n",
      "  ndvi=((Nir-Red)/(Nir+Red))\n",
      "C:\\Users\\Taha\\AppData\\Local\\Temp\\ipykernel_19756\\1386623277.py:2: RuntimeWarning: invalid value encountered in divide\n",
      "  ndvi=((Nir-Red)/(Nir+Red))\n"
     ]
    }
   ],
   "source": [
    "ndvi2024= calculate_ndvi(Nir2024,Red2024)"
   ]
  },
  {
   "cell_type": "code",
   "execution_count": 59,
   "metadata": {},
   "outputs": [],
   "source": [
    "ndvi_change=ndvi2024-ndvi2014"
   ]
  },
  {
   "cell_type": "code",
   "execution_count": 60,
   "metadata": {},
   "outputs": [],
   "source": [
    "#class_ndvi_change=np.where(ndvi_change>0.1 , 1, np.where(ndvi_change<-1 , -1, 0))\n",
    "#class_ndvi_change=class_ndvi_change.squeeze()\n"
   ]
  },
  {
   "cell_type": "code",
   "execution_count": 61,
   "metadata": {},
   "outputs": [
    {
     "ename": "ImportError",
     "evalue": "DLL load failed while importing _imagecalc: The specified module could not be found.",
     "output_type": "error",
     "traceback": [
      "\u001b[1;31m---------------------------------------------------------------------------\u001b[0m",
      "\u001b[1;31mImportError\u001b[0m                               Traceback (most recent call last)",
      "Cell \u001b[1;32mIn[61], line 1\u001b[0m\n\u001b[1;32m----> 1\u001b[0m \u001b[38;5;28;01mfrom\u001b[39;00m \u001b[38;5;21;01mrsgislib\u001b[39;00m \u001b[38;5;28;01mimport\u001b[39;00m imagecalc\n\u001b[0;32m      2\u001b[0m \u001b[38;5;28;01mfrom\u001b[39;00m \u001b[38;5;21;01mrsgislib\u001b[39;00m\u001b[38;5;21;01m.\u001b[39;00m\u001b[38;5;21;01mrastergis\u001b[39;00m \u001b[38;5;28;01mimport\u001b[39;00m ratutils\n\u001b[0;32m      4\u001b[0m imagecalc\u001b[38;5;241m.\u001b[39mimage_band_math(\u001b[38;5;124m'\u001b[39m\u001b[38;5;124mndvi_change.tif\u001b[39m\u001b[38;5;124m'\u001b[39m, \u001b[38;5;124m'\u001b[39m\u001b[38;5;124mndvi_after.tif - ndvi_before.tif\u001b[39m\u001b[38;5;124m'\u001b[39m, \u001b[38;5;124m'\u001b[39m\u001b[38;5;124mKEA\u001b[39m\u001b[38;5;124m'\u001b[39m)  \n",
      "File \u001b[1;32mc:\\Users\\Taha\\anaconda3\\envs\\py_GIS\\Lib\\site-packages\\rsgislib\\imagecalc\\__init__.py:7\u001b[0m\n\u001b[0;32m      2\u001b[0m \u001b[38;5;124;03m\"\"\"\u001b[39;00m\n\u001b[0;32m      3\u001b[0m \u001b[38;5;124;03mThe imagecalc module contains functions for performing a number of\u001b[39;00m\n\u001b[0;32m      4\u001b[0m \u001b[38;5;124;03mcalculating on images.\u001b[39;00m\n\u001b[0;32m      5\u001b[0m \u001b[38;5;124;03m\"\"\"\u001b[39;00m\n\u001b[0;32m      6\u001b[0m \u001b[38;5;66;03m# import the C++ extension into this level\u001b[39;00m\n\u001b[1;32m----> 7\u001b[0m \u001b[38;5;28;01mfrom\u001b[39;00m \u001b[38;5;21;01m.\u001b[39;00m\u001b[38;5;21;01m_imagecalc\u001b[39;00m \u001b[38;5;28;01mimport\u001b[39;00m \u001b[38;5;241m*\u001b[39m\n\u001b[0;32m      9\u001b[0m \u001b[38;5;28;01mimport\u001b[39;00m \u001b[38;5;21;01mrsgislib\u001b[39;00m\n\u001b[0;32m     11\u001b[0m \u001b[38;5;28;01mimport\u001b[39;00m \u001b[38;5;21;01mmath\u001b[39;00m\n",
      "\u001b[1;31mImportError\u001b[0m: DLL load failed while importing _imagecalc: The specified module could not be found."
     ]
    }
   ],
   "source": [
    "from rsgislib import imagecalc\n",
    "from rsgislib.rastergis import ratutils\n",
    "\n",
    "imagecalc.image_band_math('ndvi_change.tif', 'ndvi_after.tif - ndvi_before.tif', 'KEA')  \n",
    "\n",
    "\n",
    "reclasses = {  \n",
    "1:1, # NDVI مثبت (بیش از0.1)  \n",
    "2:0, # NDVI خنثی (بین0.1 و -1)  \n",
    "3: -1 # NDVI منفی (کمتر از -1)  \n",
    "}  \n",
    "ratutils.reclassifyRaster('ndvi_change.tif', 'ndvi_after.tif - ndvi_before.tif', reclasses)"
   ]
  },
  {
   "cell_type": "code",
   "execution_count": 19,
   "metadata": {},
   "outputs": [],
   "source": [
    "plt.imshow(class_ndvi_change,cmap=\"RdYlGn\")\n",
    "plt.colorbar()\n",
    "plt.title(\"Landusechange 2014-2024\")\n",
    "plt.show"
   ]
  },
  {
   "cell_type": "code",
   "execution_count": 18,
   "metadata": {},
   "outputs": [],
   "source": [
    "with rasterio .open('ndvi_change.tif', \"w\", **profile)as dst:\n",
    "    dst.write(class_ndvi_change.astype(rasterio.int32),1)"
   ]
  }
 ],
 "metadata": {
  "kernelspec": {
   "display_name": "py_GIS",
   "language": "python",
   "name": "python3"
  },
  "language_info": {
   "codemirror_mode": {
    "name": "ipython",
    "version": 3
   },
   "file_extension": ".py",
   "mimetype": "text/x-python",
   "name": "python",
   "nbconvert_exporter": "python",
   "pygments_lexer": "ipython3",
   "version": "3.12.7"
  }
 },
 "nbformat": 4,
 "nbformat_minor": 2
}
